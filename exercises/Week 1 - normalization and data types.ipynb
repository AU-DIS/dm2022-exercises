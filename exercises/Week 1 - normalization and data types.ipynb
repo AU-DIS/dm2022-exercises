{
 "cells": [
  {
   "cell_type": "markdown",
   "metadata": {},
   "source": [
    "# Week 1 - Normalization and data types\n",
    "\n",
    "This first week is going to be a warm-up week where we consider different statistical tools data types.\n",
    "\n",
    "Lets first import the libraries that we are going to need."
   ]
  },
  {
   "cell_type": "code",
   "execution_count": 32,
   "metadata": {},
   "outputs": [],
   "source": [
    "%matplotlib inline\n",
    "import matplotlib.pyplot as plt\n",
    "import numpy as np\n",
    "import scipy.stats"
   ]
  },
  {
   "cell_type": "markdown",
   "metadata": {},
   "source": [
    "## Exercise 1: Sample statistics and normalization\n",
    "\n",
    "Let $X$ and $Y$ be two random variables, denoting age and weight, respectively.\n",
    "Consider a random sample of size $n=20$ from these two variables"
   ]
  },
  {
   "cell_type": "code",
   "execution_count": 2,
   "metadata": {},
   "outputs": [],
   "source": [
    "X = np.array([69, 74, 68, 70, 72, 67, 66, 70, 76, 68, 72, 79, 74, 67, 66, 71, 74, 75, 75, 76])\n",
    "Y = np.array([153, 175, 155, 135, 172, 150, 115, 137, 200, 130, 140, 265, 185, 112, 140, 150, 165, 185, 210, 220])"
   ]
  },
  {
   "cell_type": "markdown",
   "metadata": {
    "tags": []
   },
   "source": [
    "**a)** Find the mean, median and mode for $X$  "
   ]
  },
  {
   "cell_type": "code",
   "execution_count": 4,
   "metadata": {},
   "outputs": [
    {
     "data": {
      "text/plain": [
       "71.45"
      ]
     },
     "execution_count": 4,
     "metadata": {},
     "output_type": "execute_result"
    }
   ],
   "source": [
    "np.mean(X)"
   ]
  },
  {
   "cell_type": "markdown",
   "metadata": {},
   "source": [
    "**b)** What is the variance for $Y$?  "
   ]
  },
  {
   "cell_type": "code",
   "execution_count": 5,
   "metadata": {},
   "outputs": [
    {
     "data": {
      "text/plain": [
       "1369.2099999999998"
      ]
     },
     "execution_count": 5,
     "metadata": {},
     "output_type": "execute_result"
    }
   ],
   "source": [
    "np.var(Y)"
   ]
  },
  {
   "cell_type": "markdown",
   "metadata": {},
   "source": [
    "**c)** What is the probability of observing an age of 80 or higher?  "
   ]
  },
  {
   "cell_type": "code",
   "execution_count": 10,
   "metadata": {},
   "outputs": [
    {
     "data": {
      "text/plain": [
       "0.0"
      ]
     },
     "execution_count": 10,
     "metadata": {},
     "output_type": "execute_result"
    }
   ],
   "source": [
    "count = np.count_nonzero(X > 80)\n",
    "np.divide(count, len(X))"
   ]
  },
  {
   "cell_type": "markdown",
   "metadata": {},
   "source": [
    "**d)** Plot the normal distribution for $X$. Consider if the data seems to fit a normal distribution.  "
   ]
  },
  {
   "cell_type": "code",
   "execution_count": 16,
   "metadata": {},
   "outputs": [
    {
     "name": "stdout",
     "output_type": "stream",
     "text": [
      "(array([4, 2, 1, 3, 2, 0, 5, 2, 0, 1]), array([66. , 67.3, 68.6, 69.9, 71.2, 72.5, 73.8, 75.1, 76.4, 77.7, 79. ]))\n"
     ]
    },
    {
     "data": {
      "image/png": "[encoded data removed]",
      "text/plain": [
       "<Figure size 432x288 with 1 Axes>"
      ]
     },
     "metadata": {
      "needs_background": "light"
     },
     "output_type": "display_data"
    }
   ],
   "source": [
    "print(np.histogram(X))\n",
    "plt.hist(X)\n",
    "plt.show()"
   ]
  },
  {
   "cell_type": "markdown",
   "metadata": {},
   "source": [
    "**e)** Find the 2-dimensional mean $\\hat \\mu$ and the covariance matrix $\\widehat \\Sigma$ for these two variables.  "
   ]
  },
  {
   "cell_type": "code",
   "execution_count": 21,
   "metadata": {},
   "outputs": [
    {
     "name": "stdout",
     "output_type": "stream",
     "text": [
      "2-dimensional mean:  [71.45]\n",
      " covariance matrix:  [[  14.57631579  128.87894737]\n",
      " [ 128.87894737 1441.27368421]]\n"
     ]
    }
   ],
   "source": [
    "print(\"2-dimensional mean: \",np.mean(X, keepdims = 2)) #???\n",
    "print(\" covariance matrix: \",np.cov(X, Y))"
   ]
  },
  {
   "cell_type": "markdown",
   "metadata": {},
   "source": [
    "**f)** Normalize the data with _range normalization_ to the range $[0, 1]$  "
   ]
  },
  {
   "cell_type": "code",
   "execution_count": 30,
   "metadata": {},
   "outputs": [
    {
     "name": "stdout",
     "output_type": "stream",
     "text": [
      "[0.23076923 0.61538462 0.15384615 0.30769231 0.46153846 0.07692308\n",
      " 0.         0.30769231 0.76923077 0.15384615 0.46153846 1.\n",
      " 0.61538462 0.07692308 0.         0.38461538 0.61538462 0.69230769\n",
      " 0.69230769 0.76923077]\n"
     ]
    }
   ],
   "source": [
    "normal_array = (X - np.min(X)) / (np.max(X) - np.min(X))\n",
    "print(normal_array)"
   ]
  },
  {
   "cell_type": "markdown",
   "metadata": {},
   "source": [
    "**g)** Normalize the data with _standard score normalization_, such that is has mean 0 and standard deviation 1.  "
   ]
  },
  {
   "cell_type": "code",
   "execution_count": 34,
   "metadata": {},
   "outputs": [
    {
     "data": {
      "text/plain": [
       "array([-0.65838571,  0.6852586 , -0.92711457, -0.38965685,  0.14780087,\n",
       "       -1.19584344, -1.4645723 , -0.38965685,  1.22271632, -0.92711457,\n",
       "        0.14780087,  2.02890291,  0.6852586 , -1.19584344, -1.4645723 ,\n",
       "       -0.12092799,  0.6852586 ,  0.95398746,  0.95398746,  1.22271632])"
      ]
     },
     "execution_count": 34,
     "metadata": {},
     "output_type": "execute_result"
    }
   ],
   "source": [
    "scipy.stats.zscore(X)"
   ]
  },
  {
   "cell_type": "markdown",
   "metadata": {},
   "source": [
    "## Exercise 2: Robustness\n",
    "Determine whether the following statements are true or false and explain why.\n",
    " - Mean is robust against outliers \n",
    " \n",
    "      **False**: We say that a statistic is robust if it is not affected by extreme values (such as outliers) in the data. The sample mean is unfortunately not robust because a single large value (an outlier) can skew the average.\n",
    " \n",
    " <em>Data Mining and Analysis Page 47</em>\n",
    " - Median is robust against outliers\n",
    " \n",
    "      **True：** It is not affected by extreme values\n",
    "\n",
    "- Standard deviation is robust against outliers\n",
    "\n",
    "    **False**: Standard deviation $\\sigma = \\sqrt\\frac{\\sum(x_i-\\mu)^2}{N}$, it could influenced by each $x_i$"
   ]
  },
  {
   "cell_type": "markdown",
   "metadata": {},
   "source": [
    "## Exercise 3: More on robustness\n",
    "Provide an informal definition of when a measure is robust. \n",
    "\n",
    "**Answer:** statistic is robust if it is not affected by extreme values"
   ]
  },
  {
   "cell_type": "markdown",
   "metadata": {},
   "source": [
    "## Exercise 4: Independence analysis\n",
    "Please explain what the idea of independence analysis is using contingency tables; for which kind of data is this particularly relevant? \n",
    "\n",
    "**Answer:** The main idea is to set up a hypothesis testing framework, where the null hypothesis H0 is that X1 and X2 are independent, and the alternative hypothesis H1 is that they are dependent. We then compute the value of the chi-square statistic χ2 under the null hypothesis. Depending on the p-value, we either accept or reject the null hypothesis; in the latter case the attributes are considered to be dependent.\n",
    "\n",
    "<em>Data Mining and Analysis Page 78</em>"
   ]
  },
  {
   "cell_type": "markdown",
   "metadata": {},
   "source": [
    "## Exercise 5: Contingency table and $\\chi^2$ statistics\n",
    "In the table below,  assuming that $X_1$ is discretized into three bins, as follows: $[-2, -0.5]$, $[-0.5, 0.5]$, and $[0.5, 2]$.\n",
    "\n",
    "![Table 3.11](graphics/3.11.png)\n",
    "\n",
    "Answer the following questions\n",
    "\n",
    "**a)** Construct the contingency table between the discretized $X_1$ and $X_2$ attributes . Include the marginal counts.  \n",
    "**b)** Compute the $\\chi^2$ statistic between them.  \n",
    "**c)** Determine whether they are dependent or not at the 5% significance level. Use the $\\chi^2$ critical values from Table 3.10.\n",
    "\n",
    "![Table 3.10](graphics/3.10.png)"
   ]
  },
  {
   "cell_type": "markdown",
   "metadata": {},
   "source": [
    "**Answer:**\n",
    "\n",
    "**a)**\n",
    "Table: observed contingency table\n",
    "\n",
    "| $\\frac{X_1}{X_2}$  | [-2,-0.5] | [-0.5,0.5] | [0.5, 2] |row counts|\n",
    "|---|-----------|------------|----------|----|\n",
    "| a | 2         | 4          |          | 6  |\n",
    "| b | 1         | 1          | 2        | 4  |\n",
    "| column counts  | 3         | 5          | 2        | 10 |\n",
    "\n",
    "\n",
    "\n",
    "**b)**\n",
    "\n",
    "Table: Expectation table\n",
    "\n",
    "| $\\frac{X_1}{X_2}$  | [-2,-0.5] | [-0.5,0.5] | [0.5, 2] |row counts|\n",
    "|---|-----------|------------|----------|----|\n",
    "| a | 1.8         |3          |1.2       | 6  |\n",
    "| b | 1.2         | 2          |0.8         | 4  |\n",
    "| column counts  | 3         | 5          | 2        | 10 |\n",
    "\n",
    "Table: $X^2$\n",
    "\n",
    "| $\\frac{X_1}{X_2}$  | [-2,-0.5] | [-0.5,0.5] | [0.5, 2] |row counts|\n",
    "|---|-----------|------------|----------|----|\n",
    "| a | 0.022        |0.333          |0       | 6  |\n",
    "| b | 0.033        |0.500           |1.8         | 4  |\n",
    "| column counts  | 3         | 5          | 2        | 10 |\n",
    "\n",
    "null hypothesis $H_0$, $X_1$ and $X_2$ are independent\n",
    "\n",
    "$X^2 = $$\\sum_{i=1}^m_1\\sum_{j=1}^m_2 \\frac{(n_ij-e_ij)^2}{e_ij}}$\n",
    "\n",
    "$X^2 = 0.022+0.333+0+0.333+0.5+1.8 = 2.988$\n",
    "\n",
    "degree of freedom: $q = (2-1)*(3-1) = 2$\n",
    "\n",
    "cirtical value $= 5.991$\n",
    "\n",
    "$X^2 \\le 5.991 $ it accept the null hypothesis"
   ]
  },
  {
   "cell_type": "markdown",
   "metadata": {},
   "source": [
    "## Exercise 6: Working with Metrics\n",
    "\n",
    "Consider the following situation: \n",
    "\n",
    "We know some distances between data points: $d(p_1,p_2)=1$, $d(p_1,p_3)=2$, $d(p_3, p_4)=1$. \n",
    "We also know that $d$ is a metric. \n",
    "\n",
    "1. What do we know about the remaining distances? \n",
    "2. Do we need to compute further distances if we want to find the two points that are most similar to $p_1$? \n",
    "3. Can $p_4$ be closer to $p_2$ than $p_3$ is to $p_2$? "
   ]
  },
  {
   "cell_type": "markdown",
   "metadata": {},
   "source": [
    "# Optional Exercises\n",
    "\n",
    "## Exercise 7: Mean absolute deviation \n",
    "Define a measure of deviation called _mean absolute deviation_ for a random variable $X$ as follows:\n",
    "\n",
    "$$\n",
    "\\frac{1}{n} \\sum_{i=1}^n |x_i - \\mu|\n",
    "$$\n",
    "\n",
    "Is this measure robust? Why or why not?\n",
    "\n",
    "**Answer:** No, it could influenced by each $x_i$"
   ]
  },
  {
   "cell_type": "markdown",
   "metadata": {},
   "source": [
    "## Exercise 8: Correlation\n",
    "\n",
    "Consider the table below. Assume that both the attributes $X$ and $Y$ are numeric, and the\n",
    "table represents the entire population. If we know that the correlation between $X$\n",
    "and $Y$ is zero, what can you infer about the values of $Y$? (Find a relationship between a, b and c)\n",
    "\n",
    "|$X$ | $Y$ |\n",
    "|:---:|:---:|\n",
    "|$1$|$a$|\n",
    "|$0$|$b$|\n",
    "|$1$|$c$|\n",
    "|$0$|$a$|\n",
    "|$0$|$c$|"
   ]
  },
  {
   "cell_type": "markdown",
   "metadata": {},
   "source": [
    "# Exercise 9: 3-way contingency table\n",
    "\n",
    "Consider the 3-way contingency table for attributes $X$,$Y$,$Z$ shown in the table below.\n",
    "Compute the $\\chi^2$ metric for the correlation between $Y$ and $Z$. Are they dependent\n",
    "or independent at the 95% confidence level? See Table 3.10 above for $\\chi^2$ values.\n",
    "\n",
    "![Table 3.9](graphics/3.9.png)"
   ]
  },
  {
   "cell_type": "markdown",
   "metadata": {},
   "source": [
    "# Exercise 10: Mixed data\n",
    "\n",
    "Consider the \"mixed\" data given in the table below. Here $X_1$ is a numeric attribute and\n",
    "$X_2$ is a categorical one. Assume that the domain of $X_2$ is given as $dom(X_2) = \\{a, b\\}$.\n",
    "Answer the following questions.\n",
    "**a)** What is the mean vector for this dataset?  \n",
    "**b)** What is the covariance matrix?  \n",
    "\n",
    "![Table 3.11](graphics/3.11.png)\n",
    "\n"
   ]
  },
  {
   "cell_type": "markdown",
   "metadata": {},
   "source": [
    "**a)** $ /mu = (a,b) = (-0.9, 0.8)$\n",
    "\n",
    "**b)**"
   ]
  }
 ],
 "metadata": {
  "kernelspec": {
   "display_name": "Python 3",
   "language": "python",
   "name": "python3"
  },
  "language_info": {
   "codemirror_mode": {
    "name": "ipython",
    "version": 3
   },
   "file_extension": ".py",
   "mimetype": "text/x-python",
   "name": "python",
   "nbconvert_exporter": "python",
   "pygments_lexer": "ipython3",
   "version": "3.8.5"
  }
 },
 "nbformat": 4,
 "nbformat_minor": 4
}
